{
 "cells": [
  {
   "cell_type": "markdown",
   "metadata": {},
   "source": [
    " \n",
    "# Results of this Analysis of this Dataset:\n",
    "## Assumption: The discounted price (as shown on the H&M's website) is the final selling price\n",
    "\n",
    "1. Maximum selling Price was for Padded Leather Shopper and the price was 254.15 USD\n",
    "2. Minimum selling Price was for a range of items mainly Crop Tops and Cotton Tshirts and the Price was 5.09 USD\n",
    "3. The Average selling Price for all the Products is 27.42 USD (Note: Outliers, which were not eliminated, considerably affect this result)\n",
    "4. Wordcloud shows us that the data mainly contains items with \"Turtleneck\", \"Blouse\",\"Sweater\". Further information on sales will help us on predicting the regional/global fashion trends\n",
    "5. The Maximum Discount was offered to the following Product: Padded Leather Shopper and the discount was 44.84 USD\n",
    "6. The Minimum Discount was offered for a range of items mainly Crop Tops and Cotton Tshirts and discount was 0.90 USD\n",
    "7. Average Discount for the Products was 4.84 USD\n",
    "8. Assuming all of these 1096 items got sold, it will bring in the revenue of 30056 USD "
   ]
  },
  {
   "cell_type": "code",
   "execution_count": 37,
   "metadata": {},
   "outputs": [],
   "source": [
    "# In this project we are going use python to do exploratory data analysis on H&M's US website - Women Category\n",
    "# We aim to answer multiple business related questions as you will following along this project. Lets begin! \n",
    "\n",
    "#Import Libraries and load the dataset\n",
    "import pandas as pd\n",
    "import matplotlib.pyplot as plt\n",
    "\n",
    "from wordcloud import WordCloud, STOPWORDS, ImageColorGenerator\n",
    "data = pd.read_excel(\"View All - Shop Women_s clothing online _ H_M US.xlsx\")\n"
   ]
  },
  {
   "cell_type": "code",
   "execution_count": 3,
   "metadata": {},
   "outputs": [
    {
     "data": {
      "text/html": [
       "<div>\n",
       "<style scoped>\n",
       "    .dataframe tbody tr th:only-of-type {\n",
       "        vertical-align: middle;\n",
       "    }\n",
       "\n",
       "    .dataframe tbody tr th {\n",
       "        vertical-align: top;\n",
       "    }\n",
       "\n",
       "    .dataframe thead th {\n",
       "        text-align: right;\n",
       "    }\n",
       "</style>\n",
       "<table border=\"1\" class=\"dataframe\">\n",
       "  <thead>\n",
       "    <tr style=\"text-align: right;\">\n",
       "      <th></th>\n",
       "      <th>ItemName</th>\n",
       "      <th>Discounted Price</th>\n",
       "      <th>Original Price</th>\n",
       "    </tr>\n",
       "  </thead>\n",
       "  <tbody>\n",
       "    <tr>\n",
       "      <th>0</th>\n",
       "      <td>Turtleneck Sweater</td>\n",
       "      <td>33.99</td>\n",
       "      <td>39.99</td>\n",
       "    </tr>\n",
       "    <tr>\n",
       "      <th>1</th>\n",
       "      <td>Wide-cut Blouse</td>\n",
       "      <td>21.24</td>\n",
       "      <td>24.99</td>\n",
       "    </tr>\n",
       "    <tr>\n",
       "      <th>2</th>\n",
       "      <td>Faux Fur Coat</td>\n",
       "      <td>67.99</td>\n",
       "      <td>79.99</td>\n",
       "    </tr>\n",
       "    <tr>\n",
       "      <th>3</th>\n",
       "      <td>Oversized Turtleneck Sweater</td>\n",
       "      <td>29.74</td>\n",
       "      <td>34.99</td>\n",
       "    </tr>\n",
       "    <tr>\n",
       "      <th>4</th>\n",
       "      <td>Sweatshirt with Printed Design</td>\n",
       "      <td>25.49</td>\n",
       "      <td>29.99</td>\n",
       "    </tr>\n",
       "  </tbody>\n",
       "</table>\n",
       "</div>"
      ],
      "text/plain": [
       "                         ItemName  Discounted Price  Original Price\n",
       "0              Turtleneck Sweater             33.99           39.99\n",
       "1                 Wide-cut Blouse             21.24           24.99\n",
       "2                   Faux Fur Coat             67.99           79.99\n",
       "3    Oversized Turtleneck Sweater             29.74           34.99\n",
       "4  Sweatshirt with Printed Design             25.49           29.99"
      ]
     },
     "execution_count": 3,
     "metadata": {},
     "output_type": "execute_result"
    }
   ],
   "source": [
    "data.head()"
   ]
  },
  {
   "cell_type": "code",
   "execution_count": 4,
   "metadata": {},
   "outputs": [
    {
     "data": {
      "text/plain": [
       "ItemName             object\n",
       "Discounted Price    float64\n",
       "Original Price      float64\n",
       "dtype: object"
      ]
     },
     "execution_count": 4,
     "metadata": {},
     "output_type": "execute_result"
    }
   ],
   "source": [
    "#Check Datatype of Each Column\n",
    "data.dtypes\n"
   ]
  },
  {
   "cell_type": "code",
   "execution_count": 5,
   "metadata": {},
   "outputs": [
    {
     "data": {
      "text/plain": [
       "ItemName            0\n",
       "Discounted Price    0\n",
       "Original Price      0\n",
       "dtype: int64"
      ]
     },
     "execution_count": 5,
     "metadata": {},
     "output_type": "execute_result"
    }
   ],
   "source": [
    "data.isnull().sum()"
   ]
  },
  {
   "cell_type": "code",
   "execution_count": 6,
   "metadata": {},
   "outputs": [
    {
     "data": {
      "text/plain": [
       "1096"
      ]
     },
     "execution_count": 6,
     "metadata": {},
     "output_type": "execute_result"
    }
   ],
   "source": [
    "len(data)"
   ]
  },
  {
   "cell_type": "code",
   "execution_count": 7,
   "metadata": {},
   "outputs": [
    {
     "data": {
      "text/plain": [
       "254.15"
      ]
     },
     "execution_count": 7,
     "metadata": {},
     "output_type": "execute_result"
    }
   ],
   "source": [
    "data['Discounted Price'].max()\n"
   ]
  },
  {
   "cell_type": "code",
   "execution_count": 8,
   "metadata": {},
   "outputs": [
    {
     "data": {
      "text/html": [
       "<div>\n",
       "<style scoped>\n",
       "    .dataframe tbody tr th:only-of-type {\n",
       "        vertical-align: middle;\n",
       "    }\n",
       "\n",
       "    .dataframe tbody tr th {\n",
       "        vertical-align: top;\n",
       "    }\n",
       "\n",
       "    .dataframe thead th {\n",
       "        text-align: right;\n",
       "    }\n",
       "</style>\n",
       "<table border=\"1\" class=\"dataframe\">\n",
       "  <thead>\n",
       "    <tr style=\"text-align: right;\">\n",
       "      <th></th>\n",
       "      <th>ItemName</th>\n",
       "      <th>Discounted Price</th>\n",
       "      <th>Original Price</th>\n",
       "    </tr>\n",
       "  </thead>\n",
       "  <tbody>\n",
       "    <tr>\n",
       "      <th>465</th>\n",
       "      <td>Padded Leather Shopper</td>\n",
       "      <td>254.15</td>\n",
       "      <td>299.0</td>\n",
       "    </tr>\n",
       "  </tbody>\n",
       "</table>\n",
       "</div>"
      ],
      "text/plain": [
       "                   ItemName  Discounted Price  Original Price\n",
       "465  Padded Leather Shopper            254.15           299.0"
      ]
     },
     "execution_count": 8,
     "metadata": {},
     "output_type": "execute_result"
    }
   ],
   "source": [
    "data[data['Discounted Price']==254.15]"
   ]
  },
  {
   "cell_type": "code",
   "execution_count": 9,
   "metadata": {},
   "outputs": [
    {
     "data": {
      "text/plain": [
       "5.09"
      ]
     },
     "execution_count": 9,
     "metadata": {},
     "output_type": "execute_result"
    }
   ],
   "source": [
    "data['Discounted Price'].min()"
   ]
  },
  {
   "cell_type": "code",
   "execution_count": 10,
   "metadata": {},
   "outputs": [
    {
     "data": {
      "text/html": [
       "<div>\n",
       "<style scoped>\n",
       "    .dataframe tbody tr th:only-of-type {\n",
       "        vertical-align: middle;\n",
       "    }\n",
       "\n",
       "    .dataframe tbody tr th {\n",
       "        vertical-align: top;\n",
       "    }\n",
       "\n",
       "    .dataframe thead th {\n",
       "        text-align: right;\n",
       "    }\n",
       "</style>\n",
       "<table border=\"1\" class=\"dataframe\">\n",
       "  <thead>\n",
       "    <tr style=\"text-align: right;\">\n",
       "      <th></th>\n",
       "      <th>ItemName</th>\n",
       "      <th>Discounted Price</th>\n",
       "      <th>Original Price</th>\n",
       "    </tr>\n",
       "  </thead>\n",
       "  <tbody>\n",
       "    <tr>\n",
       "      <th>70</th>\n",
       "      <td>Cotton Jersey T-shirt</td>\n",
       "      <td>5.09</td>\n",
       "      <td>5.99</td>\n",
       "    </tr>\n",
       "    <tr>\n",
       "      <th>295</th>\n",
       "      <td>Crop Top</td>\n",
       "      <td>5.09</td>\n",
       "      <td>5.99</td>\n",
       "    </tr>\n",
       "    <tr>\n",
       "      <th>434</th>\n",
       "      <td>Crop Top</td>\n",
       "      <td>5.09</td>\n",
       "      <td>5.99</td>\n",
       "    </tr>\n",
       "    <tr>\n",
       "      <th>446</th>\n",
       "      <td>Crop Top</td>\n",
       "      <td>5.09</td>\n",
       "      <td>5.99</td>\n",
       "    </tr>\n",
       "    <tr>\n",
       "      <th>492</th>\n",
       "      <td>Ribbed Tank Top</td>\n",
       "      <td>5.09</td>\n",
       "      <td>5.99</td>\n",
       "    </tr>\n",
       "    <tr>\n",
       "      <th>520</th>\n",
       "      <td>Crop Top</td>\n",
       "      <td>5.09</td>\n",
       "      <td>5.99</td>\n",
       "    </tr>\n",
       "    <tr>\n",
       "      <th>534</th>\n",
       "      <td>Ribbed Tank Top</td>\n",
       "      <td>5.09</td>\n",
       "      <td>5.99</td>\n",
       "    </tr>\n",
       "    <tr>\n",
       "      <th>769</th>\n",
       "      <td>Cotton Jersey T-shirt</td>\n",
       "      <td>5.09</td>\n",
       "      <td>5.99</td>\n",
       "    </tr>\n",
       "    <tr>\n",
       "      <th>783</th>\n",
       "      <td>Jersey T-shirt</td>\n",
       "      <td>5.09</td>\n",
       "      <td>5.99</td>\n",
       "    </tr>\n",
       "    <tr>\n",
       "      <th>829</th>\n",
       "      <td>Crop T-shirt</td>\n",
       "      <td>5.09</td>\n",
       "      <td>5.99</td>\n",
       "    </tr>\n",
       "    <tr>\n",
       "      <th>897</th>\n",
       "      <td>Cotton T-shirt</td>\n",
       "      <td>5.09</td>\n",
       "      <td>5.99</td>\n",
       "    </tr>\n",
       "    <tr>\n",
       "      <th>955</th>\n",
       "      <td>Cotton T-shirt</td>\n",
       "      <td>5.09</td>\n",
       "      <td>5.99</td>\n",
       "    </tr>\n",
       "  </tbody>\n",
       "</table>\n",
       "</div>"
      ],
      "text/plain": [
       "                  ItemName  Discounted Price  Original Price\n",
       "70   Cotton Jersey T-shirt              5.09            5.99\n",
       "295               Crop Top              5.09            5.99\n",
       "434               Crop Top              5.09            5.99\n",
       "446               Crop Top              5.09            5.99\n",
       "492        Ribbed Tank Top              5.09            5.99\n",
       "520               Crop Top              5.09            5.99\n",
       "534        Ribbed Tank Top              5.09            5.99\n",
       "769  Cotton Jersey T-shirt              5.09            5.99\n",
       "783         Jersey T-shirt              5.09            5.99\n",
       "829           Crop T-shirt              5.09            5.99\n",
       "897         Cotton T-shirt              5.09            5.99\n",
       "955         Cotton T-shirt              5.09            5.99"
      ]
     },
     "execution_count": 10,
     "metadata": {},
     "output_type": "execute_result"
    }
   ],
   "source": [
    "data[data['Discounted Price']==5.09]"
   ]
  },
  {
   "cell_type": "code",
   "execution_count": 11,
   "metadata": {},
   "outputs": [
    {
     "data": {
      "text/plain": [
       "27.42364051094953"
      ]
     },
     "execution_count": 11,
     "metadata": {},
     "output_type": "execute_result"
    }
   ],
   "source": [
    "data['Discounted Price'].mean()"
   ]
  },
  {
   "cell_type": "code",
   "execution_count": 12,
   "metadata": {},
   "outputs": [
    {
     "data": {
      "text/html": [
       "<div>\n",
       "<style scoped>\n",
       "    .dataframe tbody tr th:only-of-type {\n",
       "        vertical-align: middle;\n",
       "    }\n",
       "\n",
       "    .dataframe tbody tr th {\n",
       "        vertical-align: top;\n",
       "    }\n",
       "\n",
       "    .dataframe thead th {\n",
       "        text-align: right;\n",
       "    }\n",
       "</style>\n",
       "<table border=\"1\" class=\"dataframe\">\n",
       "  <thead>\n",
       "    <tr style=\"text-align: right;\">\n",
       "      <th></th>\n",
       "      <th>ItemName</th>\n",
       "      <th>Discounted Price</th>\n",
       "      <th>Original Price</th>\n",
       "    </tr>\n",
       "  </thead>\n",
       "  <tbody>\n",
       "    <tr>\n",
       "      <th>2</th>\n",
       "      <td>Faux Fur Coat</td>\n",
       "      <td>67.99</td>\n",
       "      <td>79.99</td>\n",
       "    </tr>\n",
       "    <tr>\n",
       "      <th>15</th>\n",
       "      <td>Hooded Puffer Coat</td>\n",
       "      <td>59.49</td>\n",
       "      <td>69.99</td>\n",
       "    </tr>\n",
       "    <tr>\n",
       "      <th>109</th>\n",
       "      <td>Hooded Puffer Coat</td>\n",
       "      <td>59.49</td>\n",
       "      <td>69.99</td>\n",
       "    </tr>\n",
       "    <tr>\n",
       "      <th>117</th>\n",
       "      <td>Long Faux Shearling Teddy Bear Coat</td>\n",
       "      <td>59.49</td>\n",
       "      <td>69.99</td>\n",
       "    </tr>\n",
       "    <tr>\n",
       "      <th>153</th>\n",
       "      <td>Wool-blend Coat</td>\n",
       "      <td>211.65</td>\n",
       "      <td>249.00</td>\n",
       "    </tr>\n",
       "    <tr>\n",
       "      <th>161</th>\n",
       "      <td>Faux Fur Coat</td>\n",
       "      <td>67.99</td>\n",
       "      <td>79.99</td>\n",
       "    </tr>\n",
       "    <tr>\n",
       "      <th>174</th>\n",
       "      <td>Coat</td>\n",
       "      <td>59.49</td>\n",
       "      <td>69.99</td>\n",
       "    </tr>\n",
       "    <tr>\n",
       "      <th>285</th>\n",
       "      <td>Oversized Faux Shearling Coat</td>\n",
       "      <td>109.65</td>\n",
       "      <td>129.00</td>\n",
       "    </tr>\n",
       "    <tr>\n",
       "      <th>508</th>\n",
       "      <td>Wool-blend Coat</td>\n",
       "      <td>126.65</td>\n",
       "      <td>149.00</td>\n",
       "    </tr>\n",
       "    <tr>\n",
       "      <th>626</th>\n",
       "      <td>Wool-blend Coat</td>\n",
       "      <td>126.65</td>\n",
       "      <td>149.00</td>\n",
       "    </tr>\n",
       "    <tr>\n",
       "      <th>781</th>\n",
       "      <td>Faux Fur Coat</td>\n",
       "      <td>42.49</td>\n",
       "      <td>49.99</td>\n",
       "    </tr>\n",
       "  </tbody>\n",
       "</table>\n",
       "</div>"
      ],
      "text/plain": [
       "                                ItemName  Discounted Price  Original Price\n",
       "2                          Faux Fur Coat             67.99           79.99\n",
       "15                    Hooded Puffer Coat             59.49           69.99\n",
       "109                   Hooded Puffer Coat             59.49           69.99\n",
       "117  Long Faux Shearling Teddy Bear Coat             59.49           69.99\n",
       "153                      Wool-blend Coat            211.65          249.00\n",
       "161                        Faux Fur Coat             67.99           79.99\n",
       "174                                 Coat             59.49           69.99\n",
       "285        Oversized Faux Shearling Coat            109.65          129.00\n",
       "508                      Wool-blend Coat            126.65          149.00\n",
       "626                      Wool-blend Coat            126.65          149.00\n",
       "781                        Faux Fur Coat             42.49           49.99"
      ]
     },
     "execution_count": 12,
     "metadata": {},
     "output_type": "execute_result"
    }
   ],
   "source": [
    "#Lets say we want to count the number of engineers, regardless of the type of engineers they are\n",
    "data[data['ItemName'].str.contains('coat',case = False)]\n",
    "#Using case = false statement, we eliminate the chances of miscounting due to case sensitive nature of data"
   ]
  },
  {
   "cell_type": "code",
   "execution_count": 13,
   "metadata": {},
   "outputs": [
    {
     "data": {
      "text/plain": [
       "ItemName            11\n",
       "Discounted Price    11\n",
       "Original Price      11\n",
       "dtype: int64"
      ]
     },
     "execution_count": 13,
     "metadata": {},
     "output_type": "execute_result"
    }
   ],
   "source": [
    "data[data['ItemName'].str.contains('coat',case = False)].count()"
   ]
  },
  {
   "cell_type": "code",
   "execution_count": 14,
   "metadata": {},
   "outputs": [
    {
     "data": {
      "text/plain": [
       "ItemName            150\n",
       "Discounted Price    150\n",
       "Original Price      150\n",
       "dtype: int64"
      ]
     },
     "execution_count": 14,
     "metadata": {},
     "output_type": "execute_result"
    }
   ],
   "source": [
    "data[data['ItemName'].str.contains('dress',case = False)].count()"
   ]
  },
  {
   "cell_type": "code",
   "execution_count": 15,
   "metadata": {},
   "outputs": [
    {
     "data": {
      "text/plain": [
       "ItemName            121\n",
       "Discounted Price    121\n",
       "Original Price      121\n",
       "dtype: int64"
      ]
     },
     "execution_count": 15,
     "metadata": {},
     "output_type": "execute_result"
    }
   ],
   "source": [
    "data[data['ItemName'].str.contains('top',case = False)].count()"
   ]
  },
  {
   "cell_type": "code",
   "execution_count": 16,
   "metadata": {},
   "outputs": [
    {
     "data": {
      "image/png": "[encoded data removed]",
      "text/plain": [
       "<Figure size 432x288 with 1 Axes>"
      ]
     },
     "metadata": {
      "needs_background": "light"
     },
     "output_type": "display_data"
    }
   ],
   "source": [
    "text = data['ItemName'].values \n",
    "\n",
    "wordcloud = WordCloud().generate(str(text))\n",
    "\n",
    "plt.imshow(wordcloud)\n",
    "plt.axis(\"off\")\n",
    "plt.show()"
   ]
  },
  {
   "cell_type": "code",
   "execution_count": 17,
   "metadata": {},
   "outputs": [
    {
     "data": {
      "text/plain": [
       "ItemName            110\n",
       "Discounted Price    110\n",
       "Original Price      110\n",
       "dtype: int64"
      ]
     },
     "execution_count": 17,
     "metadata": {},
     "output_type": "execute_result"
    }
   ],
   "source": [
    "data[data['ItemName'].str.contains('Sweater',case = False)].count()"
   ]
  },
  {
   "cell_type": "code",
   "execution_count": 18,
   "metadata": {},
   "outputs": [
    {
     "data": {
      "text/plain": [
       "Discounted Price    27.244455\n",
       "Original Price      32.054000\n",
       "dtype: float64"
      ]
     },
     "execution_count": 18,
     "metadata": {},
     "output_type": "execute_result"
    }
   ],
   "source": [
    "data[data['ItemName'].str.contains('Sweater',case = False)].mean()"
   ]
  },
  {
   "cell_type": "code",
   "execution_count": 19,
   "metadata": {},
   "outputs": [
    {
     "data": {
      "text/plain": [
       "ItemName            35\n",
       "Discounted Price    35\n",
       "Original Price      35\n",
       "dtype: int64"
      ]
     },
     "execution_count": 19,
     "metadata": {},
     "output_type": "execute_result"
    }
   ],
   "source": [
    "data[data['ItemName'].str.contains('Blouse',case = False)].count()"
   ]
  },
  {
   "cell_type": "code",
   "execution_count": 20,
   "metadata": {},
   "outputs": [
    {
     "data": {
      "text/plain": [
       "Discounted Price    21.555714\n",
       "Original Price      25.361429\n",
       "dtype: float64"
      ]
     },
     "execution_count": 20,
     "metadata": {},
     "output_type": "execute_result"
    }
   ],
   "source": [
    "data[data['ItemName'].str.contains('Blouse',case = False)].mean()"
   ]
  },
  {
   "cell_type": "code",
   "execution_count": 21,
   "metadata": {},
   "outputs": [
    {
     "data": {
      "text/plain": [
       "ItemName            48\n",
       "Discounted Price    48\n",
       "Original Price      48\n",
       "dtype: int64"
      ]
     },
     "execution_count": 21,
     "metadata": {},
     "output_type": "execute_result"
    }
   ],
   "source": [
    "data[data['ItemName'].str.contains('Turtleneck',case = False)].count()"
   ]
  },
  {
   "cell_type": "code",
   "execution_count": 22,
   "metadata": {},
   "outputs": [
    {
     "data": {
      "text/plain": [
       "Discounted Price    22.886875\n",
       "Original Price      26.927500\n",
       "dtype: float64"
      ]
     },
     "execution_count": 22,
     "metadata": {},
     "output_type": "execute_result"
    }
   ],
   "source": [
    "data[data['ItemName'].str.contains('Turtleneck',case = False)].mean()"
   ]
  },
  {
   "cell_type": "code",
   "execution_count": 23,
   "metadata": {},
   "outputs": [
    {
     "data": {
      "text/plain": [
       "ItemName            14\n",
       "Discounted Price    14\n",
       "Original Price      14\n",
       "dtype: int64"
      ]
     },
     "execution_count": 23,
     "metadata": {},
     "output_type": "execute_result"
    }
   ],
   "source": [
    "data[data['ItemName'].str.contains('Faux Fur',case = False)].count()"
   ]
  },
  {
   "cell_type": "code",
   "execution_count": 24,
   "metadata": {},
   "outputs": [
    {
     "data": {
      "text/plain": [
       "Discounted Price    35.386429\n",
       "Original Price      41.632857\n",
       "dtype: float64"
      ]
     },
     "execution_count": 24,
     "metadata": {},
     "output_type": "execute_result"
    }
   ],
   "source": [
    "data[data['ItemName'].str.contains('Faux Fur',case = False)].mean()"
   ]
  },
  {
   "cell_type": "code",
   "execution_count": 25,
   "metadata": {},
   "outputs": [
    {
     "data": {
      "text/plain": [
       "ItemName            85\n",
       "Discounted Price    85\n",
       "Original Price      85\n",
       "dtype: int64"
      ]
     },
     "execution_count": 25,
     "metadata": {},
     "output_type": "execute_result"
    }
   ],
   "source": [
    "data[data['ItemName'].str.contains('Jacket',case = False)].count()"
   ]
  },
  {
   "cell_type": "code",
   "execution_count": 26,
   "metadata": {},
   "outputs": [
    {
     "data": {
      "text/plain": [
       "Discounted Price    39.440235\n",
       "Original Price      46.402000\n",
       "dtype: float64"
      ]
     },
     "execution_count": 26,
     "metadata": {},
     "output_type": "execute_result"
    }
   ],
   "source": [
    "data[data['ItemName'].str.contains('Jacket',case = False)].mean()"
   ]
  },
  {
   "cell_type": "code",
   "execution_count": 27,
   "metadata": {},
   "outputs": [],
   "source": [
    "data['Total Discount'] = data['Original Price'] - data ['Discounted Price']"
   ]
  },
  {
   "cell_type": "code",
   "execution_count": 28,
   "metadata": {},
   "outputs": [
    {
     "data": {
      "text/plain": [
       "44.849999999999994"
      ]
     },
     "execution_count": 28,
     "metadata": {},
     "output_type": "execute_result"
    }
   ],
   "source": [
    "data['Total Discount'].max()"
   ]
  },
  {
   "cell_type": "code",
   "execution_count": 29,
   "metadata": {},
   "outputs": [
    {
     "data": {
      "text/html": [
       "<div>\n",
       "<style scoped>\n",
       "    .dataframe tbody tr th:only-of-type {\n",
       "        vertical-align: middle;\n",
       "    }\n",
       "\n",
       "    .dataframe tbody tr th {\n",
       "        vertical-align: top;\n",
       "    }\n",
       "\n",
       "    .dataframe thead th {\n",
       "        text-align: right;\n",
       "    }\n",
       "</style>\n",
       "<table border=\"1\" class=\"dataframe\">\n",
       "  <thead>\n",
       "    <tr style=\"text-align: right;\">\n",
       "      <th></th>\n",
       "      <th>ItemName</th>\n",
       "      <th>Discounted Price</th>\n",
       "      <th>Original Price</th>\n",
       "      <th>Total Discount</th>\n",
       "    </tr>\n",
       "  </thead>\n",
       "  <tbody>\n",
       "    <tr>\n",
       "      <th>465</th>\n",
       "      <td>Padded Leather Shopper</td>\n",
       "      <td>254.15</td>\n",
       "      <td>299.0</td>\n",
       "      <td>44.85</td>\n",
       "    </tr>\n",
       "  </tbody>\n",
       "</table>\n",
       "</div>"
      ],
      "text/plain": [
       "                   ItemName  Discounted Price  Original Price  Total Discount\n",
       "465  Padded Leather Shopper            254.15           299.0           44.85"
      ]
     },
     "execution_count": 29,
     "metadata": {},
     "output_type": "execute_result"
    }
   ],
   "source": [
    "data[data['Total Discount']==44.849999999999994]"
   ]
  },
  {
   "cell_type": "code",
   "execution_count": 30,
   "metadata": {},
   "outputs": [
    {
     "data": {
      "text/plain": [
       "ItemName            1\n",
       "Discounted Price    1\n",
       "Original Price      1\n",
       "Total Discount      1\n",
       "dtype: int64"
      ]
     },
     "execution_count": 30,
     "metadata": {},
     "output_type": "execute_result"
    }
   ],
   "source": [
    "data[data['ItemName'].str.contains('Padded Leather Shopper',case = False)].count()"
   ]
  },
  {
   "cell_type": "code",
   "execution_count": 31,
   "metadata": {},
   "outputs": [
    {
     "data": {
      "text/plain": [
       "0.9000000000000004"
      ]
     },
     "execution_count": 31,
     "metadata": {},
     "output_type": "execute_result"
    }
   ],
   "source": [
    "data['Total Discount'].min()"
   ]
  },
  {
   "cell_type": "code",
   "execution_count": 32,
   "metadata": {},
   "outputs": [
    {
     "data": {
      "text/html": [
       "<div>\n",
       "<style scoped>\n",
       "    .dataframe tbody tr th:only-of-type {\n",
       "        vertical-align: middle;\n",
       "    }\n",
       "\n",
       "    .dataframe tbody tr th {\n",
       "        vertical-align: top;\n",
       "    }\n",
       "\n",
       "    .dataframe thead th {\n",
       "        text-align: right;\n",
       "    }\n",
       "</style>\n",
       "<table border=\"1\" class=\"dataframe\">\n",
       "  <thead>\n",
       "    <tr style=\"text-align: right;\">\n",
       "      <th></th>\n",
       "      <th>ItemName</th>\n",
       "      <th>Discounted Price</th>\n",
       "      <th>Original Price</th>\n",
       "      <th>Total Discount</th>\n",
       "    </tr>\n",
       "  </thead>\n",
       "  <tbody>\n",
       "    <tr>\n",
       "      <th>70</th>\n",
       "      <td>Cotton Jersey T-shirt</td>\n",
       "      <td>5.09</td>\n",
       "      <td>5.99</td>\n",
       "      <td>0.9</td>\n",
       "    </tr>\n",
       "    <tr>\n",
       "      <th>295</th>\n",
       "      <td>Crop Top</td>\n",
       "      <td>5.09</td>\n",
       "      <td>5.99</td>\n",
       "      <td>0.9</td>\n",
       "    </tr>\n",
       "    <tr>\n",
       "      <th>434</th>\n",
       "      <td>Crop Top</td>\n",
       "      <td>5.09</td>\n",
       "      <td>5.99</td>\n",
       "      <td>0.9</td>\n",
       "    </tr>\n",
       "    <tr>\n",
       "      <th>446</th>\n",
       "      <td>Crop Top</td>\n",
       "      <td>5.09</td>\n",
       "      <td>5.99</td>\n",
       "      <td>0.9</td>\n",
       "    </tr>\n",
       "    <tr>\n",
       "      <th>492</th>\n",
       "      <td>Ribbed Tank Top</td>\n",
       "      <td>5.09</td>\n",
       "      <td>5.99</td>\n",
       "      <td>0.9</td>\n",
       "    </tr>\n",
       "    <tr>\n",
       "      <th>520</th>\n",
       "      <td>Crop Top</td>\n",
       "      <td>5.09</td>\n",
       "      <td>5.99</td>\n",
       "      <td>0.9</td>\n",
       "    </tr>\n",
       "    <tr>\n",
       "      <th>534</th>\n",
       "      <td>Ribbed Tank Top</td>\n",
       "      <td>5.09</td>\n",
       "      <td>5.99</td>\n",
       "      <td>0.9</td>\n",
       "    </tr>\n",
       "    <tr>\n",
       "      <th>769</th>\n",
       "      <td>Cotton Jersey T-shirt</td>\n",
       "      <td>5.09</td>\n",
       "      <td>5.99</td>\n",
       "      <td>0.9</td>\n",
       "    </tr>\n",
       "    <tr>\n",
       "      <th>783</th>\n",
       "      <td>Jersey T-shirt</td>\n",
       "      <td>5.09</td>\n",
       "      <td>5.99</td>\n",
       "      <td>0.9</td>\n",
       "    </tr>\n",
       "    <tr>\n",
       "      <th>829</th>\n",
       "      <td>Crop T-shirt</td>\n",
       "      <td>5.09</td>\n",
       "      <td>5.99</td>\n",
       "      <td>0.9</td>\n",
       "    </tr>\n",
       "    <tr>\n",
       "      <th>897</th>\n",
       "      <td>Cotton T-shirt</td>\n",
       "      <td>5.09</td>\n",
       "      <td>5.99</td>\n",
       "      <td>0.9</td>\n",
       "    </tr>\n",
       "    <tr>\n",
       "      <th>955</th>\n",
       "      <td>Cotton T-shirt</td>\n",
       "      <td>5.09</td>\n",
       "      <td>5.99</td>\n",
       "      <td>0.9</td>\n",
       "    </tr>\n",
       "  </tbody>\n",
       "</table>\n",
       "</div>"
      ],
      "text/plain": [
       "                  ItemName  Discounted Price  Original Price  Total Discount\n",
       "70   Cotton Jersey T-shirt              5.09            5.99             0.9\n",
       "295               Crop Top              5.09            5.99             0.9\n",
       "434               Crop Top              5.09            5.99             0.9\n",
       "446               Crop Top              5.09            5.99             0.9\n",
       "492        Ribbed Tank Top              5.09            5.99             0.9\n",
       "520               Crop Top              5.09            5.99             0.9\n",
       "534        Ribbed Tank Top              5.09            5.99             0.9\n",
       "769  Cotton Jersey T-shirt              5.09            5.99             0.9\n",
       "783         Jersey T-shirt              5.09            5.99             0.9\n",
       "829           Crop T-shirt              5.09            5.99             0.9\n",
       "897         Cotton T-shirt              5.09            5.99             0.9\n",
       "955         Cotton T-shirt              5.09            5.99             0.9"
      ]
     },
     "execution_count": 32,
     "metadata": {},
     "output_type": "execute_result"
    }
   ],
   "source": [
    "data[data['Total Discount']==0.9000000000000004]"
   ]
  },
  {
   "cell_type": "code",
   "execution_count": 33,
   "metadata": {},
   "outputs": [
    {
     "data": {
      "text/plain": [
       "4.841195255474427"
      ]
     },
     "execution_count": 33,
     "metadata": {},
     "output_type": "execute_result"
    }
   ],
   "source": [
    "data['Total Discount'].mean()"
   ]
  },
  {
   "cell_type": "markdown",
   "metadata": {},
   "source": [
    "At this point I would even consider Sales data to calculate how much we are selling for high and low discounts"
   ]
  },
  {
   "cell_type": "markdown",
   "metadata": {},
   "source": [
    "Let's Assume that all of this gets sold for the current month of January. Then this category will bring in the revenue of: 30056 USD"
   ]
  },
  {
   "cell_type": "code",
   "execution_count": 34,
   "metadata": {},
   "outputs": [
    {
     "data": {
      "text/plain": [
       "30056.310000000005"
      ]
     },
     "execution_count": 34,
     "metadata": {},
     "output_type": "execute_result"
    }
   ],
   "source": [
    "data['Discounted Price'].sum()"
   ]
  },
  {
   "cell_type": "code",
   "execution_count": 35,
   "metadata": {},
   "outputs": [
    {
     "data": {
      "text/plain": [
       "5305.949999999997"
      ]
     },
     "execution_count": 35,
     "metadata": {},
     "output_type": "execute_result"
    }
   ],
   "source": [
    "Total Discounts offered over entire Category:\n",
    "difference = data['Original Price'].sum() - data['Discounted Price'].sum()\n",
    "difference"
   ]
  },
  {
   "cell_type": "markdown",
   "metadata": {},
   "source": [
    "If available, I would further consider the color choices and wether they are driving a particular type of clothing. For example Blue Jackets \n",
    "Or say White shoes etc."
   ]
  },
  {
   "cell_type": "markdown",
   "metadata": {},
   "source": [
    " \n",
    "# Results of this Analysis of this Dataset:\n",
    "## Assumption: The discounted price (as shown on the H&M's website) is the final selling price\n",
    "\n",
    "1. Maximum selling Price was for Padded Leather Shopper and the price was 254.15 USD\n",
    "2. Minimum selling Price was for a range of items mainly Crop Tops and Cotton Tshirts and the Price was 5.09 USD\n",
    "3. The Average selling Price for all the Products is 27.42 USD (Note: Outliers, which were not eliminated, considerably affect this result)\n",
    "4. Wordcloud shows us that the data mainly contains items with \"Turtleneck\", \"Blouse\",\"Sweater\". Further information on sales will help us on predicting trends\n",
    "5. The Maximum Discount was offered to the following Product: Padded Leather Shopper and the discount was 44.84 USD\n",
    "6. The Minimum Discount was offered for a range of items mainly Crop Tops and Cotton Tshirts and discount was 0.90 USD\n",
    "7. Average Discount for the Products was 4.84 USD\n",
    "8. Assuming all of these 1096 items got sold, it will bring in the revenue of 30056 USD "
   ]
  },
  {
   "cell_type": "markdown",
   "metadata": {},
   "source": []
  }
 ],
 "metadata": {
  "kernelspec": {
   "display_name": "Python 3",
   "language": "python",
   "name": "python3"
  },
  "language_info": {
   "codemirror_mode": {
    "name": "ipython",
    "version": 3
   },
   "file_extension": ".py",
   "mimetype": "text/x-python",
   "name": "python",
   "nbconvert_exporter": "python",
   "pygments_lexer": "ipython3",
   "version": "3.8.5"
  }
 },
 "nbformat": 4,
 "nbformat_minor": 4
}
